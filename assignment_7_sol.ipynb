{
  "nbformat": 4,
  "nbformat_minor": 0,
  "metadata": {
    "colab": {
      "provenance": []
    },
    "kernelspec": {
      "name": "python3",
      "display_name": "Python 3"
    },
    "language_info": {
      "name": "python"
    }
  },
  "cells": [
    {
      "cell_type": "markdown",
      "source": [
        "Q.1. Create two int type variables, apply addition, subtraction, division and multiplications\n",
        "and store the results in variables. Then print the data in the following format by calling the\n",
        "variables:\n",
        "First variable is __ & second variable is __.\n",
        "Addition: __ + __ = __\n",
        "Subtraction: __ - __ = __\n",
        "Multiplication: __ * __ = __\n",
        "Division: __ / __ = __"
      ],
      "metadata": {
        "id": "wEns39SWvpZe"
      }
    },
    {
      "cell_type": "code",
      "execution_count": 2,
      "metadata": {
        "colab": {
          "base_uri": "https://localhost:8080/"
        },
        "id": "9PFQr6ApvonO",
        "outputId": "3732495c-c09d-4699-bf76-bcd9d2e15a9f"
      },
      "outputs": [
        {
          "output_type": "stream",
          "name": "stdout",
          "text": [
            "addition of 5 and 10 is 15\n",
            "subtraction of 5 and 10 is -5\n",
            "multiplication of 5 and 10 is 50\n",
            "Division of 5 and 10 is 0.5\n"
          ]
        }
      ],
      "source": [
        "a=5\n",
        "b=10\n",
        "print(\"addition of\",a,\"and\",b,\"is\",a+b)\n",
        "print(\"subtraction of\",a,\"and\",b,\"is\",a-b)\n",
        "print(\"multiplication of\",a,\"and\",b,\"is\",a*b)\n",
        "print(\"Division of\",a,\"and\",b,\"is\",a/b)"
      ]
    },
    {
      "cell_type": "markdown",
      "source": [
        "Q.2. What is the difference between the following operators:\n",
        "(i) ‘/’ & ‘//’\n",
        "(ii) ‘**’ & ‘^"
      ],
      "metadata": {
        "id": "h6Ib7O0cwvSA"
      }
    },
    {
      "cell_type": "markdown",
      "source": [
        "## (i) `/` and '//'\n",
        "##\"/\" is division oporator in python which returns float value\n",
        "## \"//\" is floor division oporator which return integer value "
      ],
      "metadata": {
        "id": "INH-kltfxZgv"
      }
    },
    {
      "cell_type": "code",
      "source": [
        "a =6\n",
        "b=8\n",
        "print(a/b)\n",
        "print(a//b)"
      ],
      "metadata": {
        "colab": {
          "base_uri": "https://localhost:8080/"
        },
        "id": "qcKgm66CwSYZ",
        "outputId": "ee88a51f-379f-4a93-bf28-f4fdee2d82bd"
      },
      "execution_count": 3,
      "outputs": [
        {
          "output_type": "stream",
          "name": "stdout",
          "text": [
            "0.75\n",
            "0\n"
          ]
        }
      ]
    },
    {
      "cell_type": "markdown",
      "source": [
        "## (ii) `**` and '^'\n",
        "##\"**\" is exponentation oporator which gives exponentation of variable\n",
        "## \"^\" is bitwise xor  oporator which perfoms bitwise xor oporation\n"
      ],
      "metadata": {
        "id": "TdOjyBeVyBSJ"
      }
    },
    {
      "cell_type": "code",
      "source": [
        "a=5\n",
        "b=2\n",
        "print(a**b)\n",
        "print(a^b)"
      ],
      "metadata": {
        "colab": {
          "base_uri": "https://localhost:8080/"
        },
        "id": "pHYURrWCx8kZ",
        "outputId": "acd18b6f-3d76-4725-ef1d-d313316bc845"
      },
      "execution_count": 7,
      "outputs": [
        {
          "output_type": "stream",
          "name": "stdout",
          "text": [
            "25\n",
            "7\n"
          ]
        }
      ]
    },
    {
      "cell_type": "markdown",
      "source": [
        "Q.3. List the logical operators."
      ],
      "metadata": {
        "id": "IHoL05UEzItg"
      }
    },
    {
      "cell_type": "code",
      "source": [
        "# logical oporators are and or not\n",
        "val1 =True\n",
        "val2 =False\n",
        "print(val1 and val2)\n",
        "print(val1 or val2)\n",
        "print(not val1)\n"
      ],
      "metadata": {
        "colab": {
          "base_uri": "https://localhost:8080/"
        },
        "id": "5Qn5X7MDy41v",
        "outputId": "e3e81593-f9c5-4ba8-a346-3258c0e1fd77"
      },
      "execution_count": 8,
      "outputs": [
        {
          "output_type": "stream",
          "name": "stdout",
          "text": [
            "False\n",
            "True\n",
            "False\n"
          ]
        }
      ]
    },
    {
      "cell_type": "markdown",
      "source": [
        "Q.4. Explain right shift operator and left shift operator with examples."
      ],
      "metadata": {
        "id": "F2fBbwdHzyWj"
      }
    },
    {
      "cell_type": "code",
      "source": [
        "# left shift oporator <<\n",
        "num =30\n",
        "print(num<<2)\n",
        "# here 30 left shifted 2 times"
      ],
      "metadata": {
        "colab": {
          "base_uri": "https://localhost:8080/"
        },
        "id": "PQHRp_VAz2R0",
        "outputId": "ab5a2932-b917-4902-ff2a-26b53513c206"
      },
      "execution_count": 10,
      "outputs": [
        {
          "output_type": "stream",
          "name": "stdout",
          "text": [
            "120\n"
          ]
        }
      ]
    },
    {
      "cell_type": "code",
      "source": [
        "# right shift oporator >>\n",
        "num =30\n",
        "print(num>>2)\n",
        "# here 30 right shifted 2 times"
      ],
      "metadata": {
        "colab": {
          "base_uri": "https://localhost:8080/"
        },
        "id": "7lzmbyoI0C3b",
        "outputId": "70e38003-f0ca-423c-c635-2c284c936bed"
      },
      "execution_count": 11,
      "outputs": [
        {
          "output_type": "stream",
          "name": "stdout",
          "text": [
            "7\n"
          ]
        }
      ]
    },
    {
      "cell_type": "markdown",
      "source": [
        "Q.5. Create a list containing int type data of length 15. Then write a code to check if 10 is\n",
        "present in the list or not."
      ],
      "metadata": {
        "id": "cQaUNckU0goW"
      }
    },
    {
      "cell_type": "code",
      "source": [
        "list1=[1,2,3,4,5,6,7,8,9,10,11,23,34,24,25]\n",
        "if(10 in list1):\n",
        "  print(\"10 is present\")\n",
        "else:\n",
        "  print(\"10 is not present\")"
      ],
      "metadata": {
        "colab": {
          "base_uri": "https://localhost:8080/"
        },
        "id": "uLnWyoci0Xga",
        "outputId": "e64d4159-fd3b-463e-c2ce-43d4357ea374"
      },
      "execution_count": 12,
      "outputs": [
        {
          "output_type": "stream",
          "name": "stdout",
          "text": [
            "10 is present\n"
          ]
        }
      ]
    },
    {
      "cell_type": "code",
      "source": [],
      "metadata": {
        "id": "g-9urRWs09Ph"
      },
      "execution_count": null,
      "outputs": []
    }
  ]
}