{
  "nbformat": 4,
  "nbformat_minor": 0,
  "metadata": {
    "colab": {
      "provenance": []
    },
    "kernelspec": {
      "name": "python3",
      "display_name": "Python 3"
    },
    "language_info": {
      "name": "python"
    }
  },
  "cells": [
    {
      "cell_type": "markdown",
      "source": [
        "1.What are the two values of the Boolean data type? How do you write them?\n",
        "2. What are the three different types of Boolean operators?\n",
        "3. Make a list of each Boolean operator's truth tables (i.e. every possible combination of Boolean values for the operator and what it evaluate ).\n",
        "4. What are the values of the following expressions?\n",
        "(5 > 4) and (3 == 5)\n",
        "not (5 > 4)\n",
        "(5 > 4) or (3 == 5)\n",
        "not ((5 > 4) or (3 == 5))\n",
        "(True and True) and (True == False)\n",
        "(not False) or (not True)\n",
        "5. What are the six comparison operators?\n",
        "6. How do you tell the difference between the equal to and assignment operators?Describe a condition and when you would use one.\n",
        "7. Identify the three blocks in this code:\n",
        "spam = 0\n",
        "if spam == 10:\n",
        "print('eggs')\n",
        "if spam > 5:\n",
        "print('bacon')\n",
        "else:\n",
        "print('ham')\n",
        "print('spam')\n",
        "print('spam')\n",
        "8. Write code that prints Hello if 1 is stored in spam, prints Howdy if 2 is stored in spam, and prints Greetings! if anything else is stored in spam.\n",
        "\n",
        "\n",
        "9.If your programme is stuck in an endless loop, what keys you’ll press?\n",
        "10. How can you tell the difference between break and continue?\n",
        "11. In a for loop, what is the difference between range(10), range(0, 10), and range(0, 10, 1)?\n",
        "12. Write a short program that prints the numbers 1 to 10 using a for loop. Then write an equivalent program that prints the numbers 1 to 10 using a while loop.\n",
        "13. If you had a function named bacon() inside a module named spam, how would you call it after importing spam?\n",
        "\n"
      ],
      "metadata": {
        "id": "DLYuBdpW2Fp6"
      }
    },
    {
      "cell_type": "markdown",
      "source": [
        "1.What are the two values of the Boolean data type? How do you write them?\n"
      ],
      "metadata": {
        "id": "9VRtg0-7yqoa"
      }
    },
    {
      "cell_type": "code",
      "source": [
        "\"\"\"\n",
        "True\n",
        "False\n",
        "\"\"\"\n",
        "True,False"
      ],
      "metadata": {
        "colab": {
          "base_uri": "https://localhost:8080/"
        },
        "id": "cfZ_v6A9ywWc",
        "outputId": "55db3906-f8b3-45b4-8470-3c981334943b"
      },
      "execution_count": 3,
      "outputs": [
        {
          "output_type": "execute_result",
          "data": {
            "text/plain": [
              "(True, False)"
            ]
          },
          "metadata": {},
          "execution_count": 3
        }
      ]
    },
    {
      "cell_type": "markdown",
      "source": [
        "2.What are the three different types of Boolean operators?"
      ],
      "metadata": {
        "id": "DoFJt1RTzK4R"
      }
    },
    {
      "cell_type": "markdown",
      "source": [
        "Ans. three different types of Boolean operators and or not."
      ],
      "metadata": {
        "id": "dH8MvjTIz9DG"
      }
    },
    {
      "cell_type": "markdown",
      "source": [
        "3. Make a list of each Boolean operator's truth tables (i.e. every possible combination of Boolean values for the operator and what it evaluate )."
      ],
      "metadata": {
        "id": "A1b4nBTu0AEW"
      }
    },
    {
      "cell_type": "code",
      "source": [
        "a =True \n",
        "b =False\n",
        "# for and oporator\n",
        "print(a and a)\n",
        "print(a and b)\n",
        "print(b and a)\n",
        "print(b and b)\n",
        "print(a or  a)\n",
        "print(a or  b)\n",
        "print(b or  a)\n",
        "print(b or  b)\n",
        "print(not a)\n",
        "print(not b)"
      ],
      "metadata": {
        "colab": {
          "base_uri": "https://localhost:8080/"
        },
        "id": "FZo85oVly2x5",
        "outputId": "99f308ff-0a7d-4ffc-b7a9-373ed7a7b696"
      },
      "execution_count": 4,
      "outputs": [
        {
          "output_type": "stream",
          "name": "stdout",
          "text": [
            "True\n",
            "False\n",
            "False\n",
            "False\n",
            "True\n",
            "True\n",
            "True\n",
            "False\n",
            "False\n",
            "True\n"
          ]
        }
      ]
    },
    {
      "cell_type": "markdown",
      "source": [
        "5. What are the six comparison operators?"
      ],
      "metadata": {
        "id": "_0YeXgp_19x-"
      }
    },
    {
      "cell_type": "code",
      "source": [
        "# six comparison oporators are\n",
        "a = 5\n",
        "b = 10\n",
        "\n",
        "print(a == b)  # Equal to, Output: False\n",
        "print(a != b)  # Not equal to, Output: True\n",
        "print(a > b)   # Greater than, Output: False\n",
        "print(a < b)   # Less than, Output: True\n",
        "print(a >= b)  # Greater than or equal to, Output: False\n",
        "print(a <= b)  # Less than or equal to, Output: True\n"
      ],
      "metadata": {
        "colab": {
          "base_uri": "https://localhost:8080/"
        },
        "id": "TC1G-oha16hz",
        "outputId": "23c2efa4-ecf1-4a66-859a-323d9235f21f"
      },
      "execution_count": 5,
      "outputs": [
        {
          "output_type": "stream",
          "name": "stdout",
          "text": [
            "False\n",
            "True\n",
            "False\n",
            "True\n",
            "False\n",
            "True\n"
          ]
        }
      ]
    },
    {
      "cell_type": "markdown",
      "source": [
        "6. How do you tell the difference between the equal to and assignment operators?"
      ],
      "metadata": {
        "id": "zBB9_Sn62w2T"
      }
    },
    {
      "cell_type": "code",
      "source": [
        "# Ans. in case of assignment oporator we are asigning a value to a variable using \"=\" symbol\n",
        "# But in case of equal to \"==\" is a comparison oporator use to compare two cases"
      ],
      "metadata": {
        "id": "nYqx6JF72oPT"
      },
      "execution_count": 6,
      "outputs": []
    },
    {
      "cell_type": "markdown",
      "source": [
        "7. Identify the three blocks in this code:\n",
        "spam = 0\n",
        "if spam == 10:\n",
        "print('eggs')\n",
        "if spam > 5:\n",
        "print('bacon')\n",
        "else:\n",
        "print('ham')\n",
        "print('spam')\n",
        "print('spam')"
      ],
      "metadata": {
        "id": "0Z0y5axC8JPJ"
      }
    },
    {
      "cell_type": "code",
      "source": [
        "spam = 0\n",
        "if spam == 10:\n",
        "  print('eggs')\n",
        "if spam > 5:\n",
        "  print('bacon')\n",
        "else:\n",
        "  print('ham')\n",
        "  print('spam')\n",
        "  print('spam')"
      ],
      "metadata": {
        "colab": {
          "base_uri": "https://localhost:8080/"
        },
        "id": "ZHRXpXsF8Ff3",
        "outputId": "31e963e8-135f-40fa-882a-287a6b9686fe"
      },
      "execution_count": 7,
      "outputs": [
        {
          "output_type": "stream",
          "name": "stdout",
          "text": [
            "ham\n",
            "spam\n",
            "spam\n"
          ]
        }
      ]
    },
    {
      "cell_type": "markdown",
      "source": [
        "8. Write code that prints Hello if 1 is stored in spam, prints Howdy if 2 is stored in spam, and prints Greetings! if anything else is stored in spam."
      ],
      "metadata": {
        "id": "CjSfJiyV8iAQ"
      }
    },
    {
      "cell_type": "code",
      "source": [
        "spam = 5\n",
        "if spam == 1:\n",
        "  print('Hello')\n",
        "if spam ==2:\n",
        "  print('Howdy')\n",
        "else:\n",
        "  print('Greetings!')\n",
        "  "
      ],
      "metadata": {
        "colab": {
          "base_uri": "https://localhost:8080/"
        },
        "id": "GQ9pAm8Y8Xw9",
        "outputId": "83315ec8-17d4-4696-b43a-6dcf15bff0af"
      },
      "execution_count": 14,
      "outputs": [
        {
          "output_type": "stream",
          "name": "stdout",
          "text": [
            "Greetings!\n"
          ]
        }
      ]
    },
    {
      "cell_type": "markdown",
      "source": [
        "9.If your programme is stuck in an endless loop, what keys you’ll press?"
      ],
      "metadata": {
        "id": "dIe3ulP49N2H"
      }
    },
    {
      "cell_type": "code",
      "source": [
        "# ctrl + c to intrupt throgh keyboard"
      ],
      "metadata": {
        "id": "sZRE4DRO89LL"
      },
      "execution_count": 11,
      "outputs": []
    },
    {
      "cell_type": "markdown",
      "source": [
        "10. How can you tell the difference between break and continue?"
      ],
      "metadata": {
        "id": "_fLhXwxh-TmU"
      }
    },
    {
      "cell_type": "code",
      "source": [
        "# break is a keyword used to break a loop or condition inside loop\n",
        "# continue also a keyword used to continue inside loop to leave rest of code and continue ."
      ],
      "metadata": {
        "id": "UkpUn0Yz-RvD"
      },
      "execution_count": 15,
      "outputs": []
    },
    {
      "cell_type": "markdown",
      "source": [
        "11. In a for loop, what is the difference between range(10), range(0, 10), and range(0, 10, 1)?"
      ],
      "metadata": {
        "id": "ZTDfXJVo_Pd8"
      }
    },
    {
      "cell_type": "code",
      "source": [
        "# in first case range(10) function we are passing ending value 10 it default starts from 0 to 10 \n",
        "print(range(10))\n",
        "# in 2nd  case range(0,10) function we are passing first and ending value 0 and 10 ,it starts from 0 to 10 \n",
        "print(range(10))\n",
        "# in case of range(0,10,1) along with 0,10 ,we are passing increment value 1 ,it is step for increment \n",
        "print(range(0,10,1))"
      ],
      "metadata": {
        "colab": {
          "base_uri": "https://localhost:8080/"
        },
        "id": "NW2NzM5M_Ofo",
        "outputId": "2a64c5ca-0a06-41e4-a9a4-86ee9879f379"
      },
      "execution_count": 17,
      "outputs": [
        {
          "output_type": "stream",
          "name": "stdout",
          "text": [
            "range(0, 10)\n",
            "range(0, 10)\n",
            "range(0, 10)\n"
          ]
        }
      ]
    },
    {
      "cell_type": "markdown",
      "source": [
        "12. Write a short program that prints the numbers 1 to 10 using a for loop. Then write an equivalent program that prints the numbers 1 to 10 using a while loop."
      ],
      "metadata": {
        "id": "h_12Jpw_A0gA"
      }
    },
    {
      "cell_type": "code",
      "source": [
        "for i in range(1,11):\n",
        "  print(i)"
      ],
      "metadata": {
        "colab": {
          "base_uri": "https://localhost:8080/"
        },
        "id": "MiOxIKadAqIN",
        "outputId": "f8032c93-1d51-4208-c987-4e1c11503cde"
      },
      "execution_count": 18,
      "outputs": [
        {
          "output_type": "stream",
          "name": "stdout",
          "text": [
            "1\n",
            "2\n",
            "3\n",
            "4\n",
            "5\n",
            "6\n",
            "7\n",
            "8\n",
            "9\n",
            "10\n"
          ]
        }
      ]
    },
    {
      "cell_type": "code",
      "source": [
        "i=1\n",
        "while(i<=10):\n",
        "  print(i)\n",
        "  i+=1\n"
      ],
      "metadata": {
        "colab": {
          "base_uri": "https://localhost:8080/"
        },
        "id": "iialG-XZA-tE",
        "outputId": "7c26b454-daed-4a4b-8b3b-acf7059cb328"
      },
      "execution_count": 19,
      "outputs": [
        {
          "output_type": "stream",
          "name": "stdout",
          "text": [
            "1\n",
            "2\n",
            "3\n",
            "4\n",
            "5\n",
            "6\n",
            "7\n",
            "8\n",
            "9\n",
            "10\n"
          ]
        }
      ]
    },
    {
      "cell_type": "markdown",
      "source": [
        "13. If you had a function named bacon() inside a module named spam, how would you call it after importing spam?"
      ],
      "metadata": {
        "id": "wS3rHJn7Bztj"
      }
    },
    {
      "cell_type": "code",
      "source": [
        "# by using statement\n",
        "# from spam import bacon"
      ],
      "metadata": {
        "id": "ksLJZAI-BPFU"
      },
      "execution_count": null,
      "outputs": []
    }
  ]
}