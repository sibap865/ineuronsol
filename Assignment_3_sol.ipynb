{
 "cells": [
  {
   "cell_type": "markdown",
   "id": "e4f3313c",
   "metadata": {},
   "source": [
    "# Asssignment_3"
   ]
  },
  {
   "cell_type": "markdown",
   "id": "a36ef488",
   "metadata": {},
   "source": [
    "##  1. Why are functions advantageous to have in your programs?"
   ]
  },
  {
   "cell_type": "markdown",
   "id": "99ef238f",
   "metadata": {},
   "source": [
    "Ans. Functions are used to reduce code duplication. This results in simpler code that is easier to update and allows us to call specific functions when needed."
   ]
  },
  {
   "cell_type": "markdown",
   "id": "34b2ae7c",
   "metadata": {},
   "source": [
    "## 2. When does the code in a function run: when it's specified or when it's called?"
   ]
  },
  {
   "cell_type": "markdown",
   "id": "f964f00c",
   "metadata": {},
   "source": [
    "Ans. The code inside the function runs when that function is called."
   ]
  },
  {
   "cell_type": "markdown",
   "id": "3082941a",
   "metadata": {},
   "source": [
    "## 3. What statement creates a function?"
   ]
  },
  {
   "cell_type": "markdown",
   "id": "795b1a66",
   "metadata": {},
   "source": [
    "Ans . A def keyword followed by a function name with parentheses and a colon creates a function."
   ]
  },
  {
   "cell_type": "code",
   "execution_count": 14,
   "id": "0e4ea6c7",
   "metadata": {},
   "outputs": [],
   "source": [
    "def hello():\n",
    "    print(\"Hello, World\")"
   ]
  },
  {
   "cell_type": "markdown",
   "id": "fb688aff",
   "metadata": {},
   "source": [
    "## 4. What is the difference between a function and a function call?"
   ]
  },
  {
   "cell_type": "markdown",
   "id": "2c07c3b3",
   "metadata": {},
   "source": [
    "Ans. A function is a block of organised, reusable code that is used to perform a single, related action.\n",
    "The code inside the function starts running when we call that function."
   ]
  },
  {
   "cell_type": "markdown",
   "id": "80900124",
   "metadata": {},
   "source": [
    "## 5. How many global scopes are there in a Python program? How many local scopes?"
   ]
  },
  {
   "cell_type": "markdown",
   "id": "b8c752fb",
   "metadata": {},
   "source": [
    "Ans. There is one global scope, and a local scope is created whenever a function is called."
   ]
  },
  {
   "cell_type": "markdown",
   "id": "d08e6020",
   "metadata": {},
   "source": [
    "## 6. What happens to variables in a local scope when the function call returns?"
   ]
  },
  {
   "cell_type": "markdown",
   "id": "9f9a4092",
   "metadata": {},
   "source": [
    "Ans. Wheen A function returns all the variables created in local scope are destroyed"
   ]
  },
  {
   "cell_type": "markdown",
   "id": "0024652f",
   "metadata": {},
   "source": [
    "## 7. What is the concept of a return value? Is it possible to have a return value in an expression?"
   ]
  },
  {
   "cell_type": "markdown",
   "id": "dac456f2",
   "metadata": {},
   "source": [
    "Ans. A function returns value after the execution of the function. Yes it is possible to be a part of one expression."
   ]
  },
  {
   "cell_type": "code",
   "execution_count": 6,
   "id": "df3f1ce7",
   "metadata": {},
   "outputs": [],
   "source": [
    "def add_nums(num1:int,num2:int)->int:\n",
    "    return num1+num2\n",
    "def sub_nums(num1:int,num2:int)->int:\n",
    "    return num1-num2"
   ]
  },
  {
   "cell_type": "code",
   "execution_count": 7,
   "id": "9c5d10c0",
   "metadata": {},
   "outputs": [
    {
     "name": "stdout",
     "output_type": "stream",
     "text": [
      "60\n"
     ]
    }
   ],
   "source": [
    "num1=10\n",
    "num2=20\n",
    "num3=30\n",
    "num4=40\n",
    "total =add_nums(num1,num4)+sub_nums(num3,num2)\n",
    "print(total)"
   ]
  },
  {
   "cell_type": "markdown",
   "id": "53db61b5",
   "metadata": {},
   "source": [
    "## 8. If a function does not have a return statement, what is the return value of a call to that function?"
   ]
  },
  {
   "cell_type": "markdown",
   "id": "c4f84149",
   "metadata": {},
   "source": [
    "Ans. if function don't have return value it returns None"
   ]
  },
  {
   "cell_type": "code",
   "execution_count": 8,
   "id": "1a4292ea",
   "metadata": {},
   "outputs": [
    {
     "name": "stdout",
     "output_type": "stream",
     "text": [
      "Welcome All\n",
      "None\n"
     ]
    }
   ],
   "source": [
    "def welcome():\n",
    "    print(\"Welcome All\")\n",
    "print(welcome())"
   ]
  },
  {
   "cell_type": "markdown",
   "id": "cd3eafa5",
   "metadata": {},
   "source": [
    "## 9. How do you make a function variable refer to the global variable?"
   ]
  },
  {
   "cell_type": "markdown",
   "id": "54da124b",
   "metadata": {},
   "source": [
    "Ans. We can make  a function variable make global by using global keyword"
   ]
  },
  {
   "cell_type": "code",
   "execution_count": 10,
   "id": "98844796",
   "metadata": {},
   "outputs": [
    {
     "name": "stdout",
     "output_type": "stream",
     "text": [
      "global var before fun call :  10\n",
      "global var after function call :  20\n"
     ]
    }
   ],
   "source": [
    "global_var=10\n",
    "print(\"global var before fun call : \",global_var)\n",
    "def fun():\n",
    "    global global_var\n",
    "    global_var+=10\n",
    "fun()\n",
    "print(\"global var after function call : \",global_var)"
   ]
  },
  {
   "cell_type": "markdown",
   "id": "0fca15fd",
   "metadata": {},
   "source": [
    "## 10. What is the data type of None?"
   ]
  },
  {
   "cell_type": "markdown",
   "id": "6ad61273",
   "metadata": {},
   "source": [
    "Ans. Data type of None is Nonetype."
   ]
  },
  {
   "cell_type": "code",
   "execution_count": 11,
   "id": "929f441d",
   "metadata": {},
   "outputs": [
    {
     "data": {
      "text/plain": [
       "NoneType"
      ]
     },
     "execution_count": 11,
     "metadata": {},
     "output_type": "execute_result"
    }
   ],
   "source": [
    "type(None)"
   ]
  },
  {
   "cell_type": "markdown",
   "id": "e3c8e598",
   "metadata": {},
   "source": [
    "## 11. What does the sentence import areallyourpetsnamederic do?"
   ]
  },
  {
   "cell_type": "markdown",
   "id": "580d3270",
   "metadata": {},
   "source": [
    "Ans. if we create a module nammed areallyourpetsnamederic will import this module otherwise it will return ModuleNotFoundError"
   ]
  },
  {
   "cell_type": "markdown",
   "id": "a99915b1",
   "metadata": {},
   "source": [
    "## 12. If you had a bacon() feature in a spam module, what would you call it after importing spam?\n"
   ]
  },
  {
   "cell_type": "markdown",
   "id": "2323bb2a",
   "metadata": {},
   "source": [
    "Ans. after importing spam modue we call the bacon method  by spam.bacon()"
   ]
  },
  {
   "cell_type": "markdown",
   "id": "942f42d0",
   "metadata": {},
   "source": [
    "## 13. What can you do to save a programme from crashing if it encounters an error?"
   ]
  },
  {
   "cell_type": "markdown",
   "id": "51d4c981",
   "metadata": {},
   "source": [
    "Ans. We have to write that block of code in the try and except clause to prevent it from crashing."
   ]
  },
  {
   "cell_type": "markdown",
   "id": "fe09aaaa",
   "metadata": {},
   "source": [
    "## 14. What is the purpose of the try clause? What is the purpose of the except clause?"
   ]
  },
  {
   "cell_type": "markdown",
   "id": "09600ae2",
   "metadata": {},
   "source": [
    "Ans. Try clause prevent us from runtime error.The purpose of except clause is to exception if try throws any exception."
   ]
  }
 ],
 "metadata": {
  "kernelspec": {
   "display_name": "Python 3 (ipykernel)",
   "language": "python",
   "name": "python3"
  },
  "language_info": {
   "codemirror_mode": {
    "name": "ipython",
    "version": 3
   },
   "file_extension": ".py",
   "mimetype": "text/x-python",
   "name": "python",
   "nbconvert_exporter": "python",
   "pygments_lexer": "ipython3",
   "version": "3.10.9"
  }
 },
 "nbformat": 4,
 "nbformat_minor": 5
}
