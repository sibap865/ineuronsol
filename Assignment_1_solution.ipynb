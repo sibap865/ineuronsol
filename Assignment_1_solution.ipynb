{
 "cells": [
  {
   "cell_type": "markdown",
   "id": "acec4dad",
   "metadata": {},
   "source": [
    "##  1.\tIn the below elements which of them are values or an expression? eg:- values can be integer or string and expressions will be mathematical operators."
   ]
  },
  {
   "cell_type": "markdown",
   "id": "0cfcc0f5",
   "metadata": {},
   "source": [
    "Ans.\n",
    "1.  \"*\" expression\n",
    "2. 'hello' ->value\n",
    "3. -87.8 -> =value\n",
    "4. \"-\" expression\n",
    "5. / expression\n",
    "6. \"+\" expression\n",
    "7. 6 value\n"
   ]
  },
  {
   "cell_type": "markdown",
   "id": "fd8285c4",
   "metadata": {},
   "source": [
    "## 2. What is the difference between string and variable?"
   ]
  },
  {
   "cell_type": "markdown",
   "id": "b70c4d5c",
   "metadata": {},
   "source": [
    "Ans. String is a type of a variable whereas variable is a container which holds values."
   ]
  },
  {
   "cell_type": "markdown",
   "id": "db426558",
   "metadata": {},
   "source": [
    "## 3. Describe three different data types."
   ]
  },
  {
   "cell_type": "markdown",
   "id": "db4583d0",
   "metadata": {},
   "source": [
    "Ans. Int,float,string,bool"
   ]
  },
  {
   "cell_type": "markdown",
   "id": "7e0ed64e",
   "metadata": {},
   "source": [
    "## 4. What is an expression made up of? What do all expressions do?\n"
   ]
  },
  {
   "cell_type": "markdown",
   "id": "82947378",
   "metadata": {},
   "source": [
    "Ans. Expression is a combination of values, variables, operators, and function calls."
   ]
  },
  {
   "cell_type": "markdown",
   "id": "9fe8a4f0",
   "metadata": {},
   "source": [
    "## 5. This assignment statements, like spam = 10. What is the difference between an expression and a statement?"
   ]
  },
  {
   "cell_type": "markdown",
   "id": "4379e78d",
   "metadata": {},
   "source": [
    "Ans. Expression is a combination of values, variables, operators, functions whereas statement is a complete line of code assigning a variable, conditional statements, loops."
   ]
  },
  {
   "cell_type": "markdown",
   "id": "cf0fa314",
   "metadata": {},
   "source": [
    "## 6. After running the following code, what does the variable bacon contain?\n",
    "## bacon = 22\n",
    "## bacon + 1\n",
    "Ans. bacon will be 22 because we are not updating the variable.\n",
    "## 7. What should the values of the following two terms be?\n",
    "## 'spam' + 'spamspam' \n",
    "## 'spam' * 3\n",
    "Ans. \n",
    "* 'spamspamspam'\n",
    "* 'spamspamspam’\n",
    "\n",
    "## 8. Why is eggs a valid variable name while 100 is invalid?\n",
    "Ans. Eggs is a string. We can start a variable with letter, but we can’t start with digits.\n",
    "## 9. What three functions can be used to get the integer, floating-point number, or string version of a value?\n",
    "Ans. int(value) ,float(value) ,str(value)\n",
    "## 10. Why does this expression cause an error? How can you fix it?\n",
    "## 'I have eaten ' + 99 + ' burritos.'\n",
    "\n",
    "Ans. Here string can’t be concatenate with a integer so the correct code will be:-\n",
    "-  'I have eaten ' + str(99) + ' burritos.'\n",
    "\n"
   ]
  }
 ],
 "metadata": {
  "kernelspec": {
   "display_name": "Python 3 (ipykernel)",
   "language": "python",
   "name": "python3"
  },
  "language_info": {
   "codemirror_mode": {
    "name": "ipython",
    "version": 3
   },
   "file_extension": ".py",
   "mimetype": "text/x-python",
   "name": "python",
   "nbconvert_exporter": "python",
   "pygments_lexer": "ipython3",
   "version": "3.10.9"
  }
 },
 "nbformat": 4,
 "nbformat_minor": 5
}
