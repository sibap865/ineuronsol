{
  "nbformat": 4,
  "nbformat_minor": 0,
  "metadata": {
    "colab": {
      "provenance": []
    },
    "kernelspec": {
      "name": "python3",
      "display_name": "Python 3"
    },
    "language_info": {
      "name": "python"
    }
  },
  "cells": [
    {
      "cell_type": "markdown",
      "source": [
        "Q.1. What are keywords in python? Using the keyword library, print all the python keywords."
      ],
      "metadata": {
        "id": "DGv_gInYGzmZ"
      }
    },
    {
      "cell_type": "markdown",
      "source": [
        "Keywords are the reserved words which cannot be used as identfiers"
      ],
      "metadata": {
        "id": "1hBFYQZjG9Yz"
      }
    },
    {
      "cell_type": "code",
      "execution_count": 2,
      "metadata": {
        "id": "5w4xrL9RGuEu"
      },
      "outputs": [],
      "source": [
        "import keyword"
      ]
    },
    {
      "cell_type": "code",
      "source": [
        "print(keyword.kwlist)"
      ],
      "metadata": {
        "colab": {
          "base_uri": "https://localhost:8080/"
        },
        "id": "yUtJ0aBcHPNw",
        "outputId": "42c952c1-653f-47ec-b62d-dc67afc105e4"
      },
      "execution_count": 5,
      "outputs": [
        {
          "output_type": "stream",
          "name": "stdout",
          "text": [
            "['False', 'None', 'True', 'and', 'as', 'assert', 'async', 'await', 'break', 'class', 'continue', 'def', 'del', 'elif', 'else', 'except', 'finally', 'for', 'from', 'global', 'if', 'import', 'in', 'is', 'lambda', 'nonlocal', 'not', 'or', 'pass', 'raise', 'return', 'try', 'while', 'with', 'yield']\n"
          ]
        }
      ]
    },
    {
      "cell_type": "markdown",
      "source": [
        "Q.2. What are the rules to create variables in python?"
      ],
      "metadata": {
        "id": "57OCxpvvIH1Q"
      }
    },
    {
      "cell_type": "markdown",
      "source": [
        "\n",
        "Ans. \n",
        "1. It's name can be a combination of letter both upper case and lower case and underscore(_)\n",
        "2. Variabes cannot be start with digits.\n",
        "3. Variable can start with _,letter.\n",
        "4. it can't be reserved keywords.\n",
        "5. variables are case sensitive.\n",
        "    i.e var and VAR are different\n",
        "6. It can be of unlimited length ,python doesn't restrict upon that.\n",
        "\n",
        "\n"
      ],
      "metadata": {
        "id": "6rR7-1ABIOmP"
      }
    },
    {
      "cell_type": "markdown",
      "source": [
        "Q.3. What are the standards and conventions followed for the nomenclature of variables in python to improve code readability and maintainability?\n"
      ],
      "metadata": {
        "id": "wKP-uKHEK9C1"
      }
    },
    {
      "cell_type": "markdown",
      "source": [
        "1. variable name should be descriptive.\n",
        "2. It's good to use lower case letters .multiple words separated by underscore.\n",
        "3. It cannot be reserved keyword of python lifw if,for,else,while.\n",
        "4. function and variable names should be lowercase,multiple words should be separeted by underscore(_).\n",
        "  Class name should be camelcase and constants should be UPPER CASE.\n",
        "5. Be consistent with naming style.\n",
        "6. Use meaningful words insted of relaying heavily on comments.\n",
        "7. Avoid single caracter except for constants.( eg. \"x\",\"y\",\"i\" )\n",
        "8. Concider the context of  variable.\n"
      ],
      "metadata": {
        "id": "m-_AE3G7LOIK"
      }
    },
    {
      "cell_type": "markdown",
      "source": [
        "Q.4. What will happen if a keyword is used as a variable name?"
      ],
      "metadata": {
        "id": "t6ubD4UEO4Dv"
      }
    },
    {
      "cell_type": "markdown",
      "source": [
        "Ans. It will show invalid syntax error."
      ],
      "metadata": {
        "id": "UPRu_0a1O-pz"
      }
    },
    {
      "cell_type": "code",
      "source": [
        "for =3"
      ],
      "metadata": {
        "colab": {
          "base_uri": "https://localhost:8080/",
          "height": 130
        },
        "id": "zkJlhnXzHdv2",
        "outputId": "5e9d92e9-0d85-4e99-ef71-953fe3d6a35c"
      },
      "execution_count": 6,
      "outputs": [
        {
          "output_type": "error",
          "ename": "SyntaxError",
          "evalue": "ignored",
          "traceback": [
            "\u001b[0;36m  File \u001b[0;32m\"<ipython-input-6-6e0df36ce229>\"\u001b[0;36m, line \u001b[0;32m1\u001b[0m\n\u001b[0;31m    for =3\u001b[0m\n\u001b[0m        ^\u001b[0m\n\u001b[0;31mSyntaxError\u001b[0m\u001b[0;31m:\u001b[0m invalid syntax\n"
          ]
        }
      ]
    },
    {
      "cell_type": "markdown",
      "source": [
        "Q.5. For what purpose def keyword is used?"
      ],
      "metadata": {
        "id": "hSyH74v6PSdr"
      }
    },
    {
      "cell_type": "markdown",
      "source": [
        "\"def\" keyword is used for define a method or function defination. "
      ],
      "metadata": {
        "id": "xX8dT7HtPZDj"
      }
    },
    {
      "cell_type": "code",
      "source": [
        "# for example\n",
        "def find_sum(num1,num2):\n",
        "  return num1 + num2"
      ],
      "metadata": {
        "id": "bnUWQTSYPBtb"
      },
      "execution_count": 7,
      "outputs": []
    },
    {
      "cell_type": "markdown",
      "source": [
        "Q.7. Give an example of the following conditions:\n",
        "(i) Homogeneous list\n",
        "(ii) Heterogeneous set\n",
        "(iii) Homogeneous tuple"
      ],
      "metadata": {
        "id": "m9HgbHwEP67y"
      }
    },
    {
      "cell_type": "code",
      "source": [
        "# i. Homogeneous list\n",
        "homo_list =[1,2,3,4,5,8,6,7] #(integer array)\n",
        "# ii. heterogeneous set\n",
        "hetero_set = {1,\"book\",4.5,3999,\"Harry poter part 1\"}\n",
        "# iii. Homogeneous tuple\n",
        "homo_tuple =(\"book1\",\"book2\",\"book3\",\"book4\",\"book5\") "
      ],
      "metadata": {
        "id": "sgAiT-PpP4zr"
      },
      "execution_count": 9,
      "outputs": []
    },
    {
      "cell_type": "markdown",
      "source": [
        "Q.8. Explain the mutable and immutable data types with proper explanation & examples."
      ],
      "metadata": {
        "id": "FiB9XkEZRE0D"
      }
    },
    {
      "cell_type": "markdown",
      "source": [
        "Ans. \n",
        "1. mutable data types.\n",
        "These are data types which can be modified.Means we can add data ,and update data. (e.g. list,set,dict)\n",
        "2. immutable data types.\n",
        "These are the data types which can't be modifid ,we can't update these data types.\n",
        "(e.g. tuple)\n"
      ],
      "metadata": {
        "id": "huuJI5gRRMj3"
      }
    },
    {
      "cell_type": "code",
      "source": [
        "# list are mutable\n",
        "nums =[1,2,3,4,5,6]\n",
        "nums.append(2)\n",
        "nums.append(3)\n",
        "nums.append(4)\n",
        "print(nums)\n",
        "nums[0]=30\n",
        "nums"
      ],
      "metadata": {
        "colab": {
          "base_uri": "https://localhost:8080/"
        },
        "id": "SFdpI_E2QvzP",
        "outputId": "0e5ae238-3521-4ffb-9727-920cbc4b9aba"
      },
      "execution_count": 12,
      "outputs": [
        {
          "output_type": "stream",
          "name": "stdout",
          "text": [
            "[1, 2, 3, 4, 5, 6, 2, 3, 4]\n"
          ]
        },
        {
          "output_type": "execute_result",
          "data": {
            "text/plain": [
              "[30, 2, 3, 4, 5, 6, 2, 3, 4]"
            ]
          },
          "metadata": {},
          "execution_count": 12
        }
      ]
    },
    {
      "cell_type": "code",
      "source": [
        "# tuple are immutable\n",
        "nums1=(1,2,3,4,5,6)"
      ],
      "metadata": {
        "id": "snM8EPlcfgJo"
      },
      "execution_count": 13,
      "outputs": []
    },
    {
      "cell_type": "code",
      "source": [
        "#\n",
        "print(nums1[0])\n",
        "nums1[0]=1"
      ],
      "metadata": {
        "colab": {
          "base_uri": "https://localhost:8080/",
          "height": 200
        },
        "id": "X2r02LPlgBAN",
        "outputId": "32eef9b6-6f77-4b40-e2f4-a5559789acdb"
      },
      "execution_count": 14,
      "outputs": [
        {
          "output_type": "stream",
          "name": "stdout",
          "text": [
            "1\n"
          ]
        },
        {
          "output_type": "error",
          "ename": "TypeError",
          "evalue": "ignored",
          "traceback": [
            "\u001b[0;31m---------------------------------------------------------------------------\u001b[0m",
            "\u001b[0;31mTypeError\u001b[0m                                 Traceback (most recent call last)",
            "\u001b[0;32m<ipython-input-14-b69beac3b7e6>\u001b[0m in \u001b[0;36m<cell line: 2>\u001b[0;34m()\u001b[0m\n\u001b[1;32m      1\u001b[0m \u001b[0mprint\u001b[0m\u001b[0;34m(\u001b[0m\u001b[0mnums1\u001b[0m\u001b[0;34m[\u001b[0m\u001b[0;36m0\u001b[0m\u001b[0;34m]\u001b[0m\u001b[0;34m)\u001b[0m\u001b[0;34m\u001b[0m\u001b[0;34m\u001b[0m\u001b[0m\n\u001b[0;32m----> 2\u001b[0;31m \u001b[0mnums1\u001b[0m\u001b[0;34m[\u001b[0m\u001b[0;36m0\u001b[0m\u001b[0;34m]\u001b[0m\u001b[0;34m=\u001b[0m\u001b[0;36m1\u001b[0m\u001b[0;34m\u001b[0m\u001b[0;34m\u001b[0m\u001b[0m\n\u001b[0m",
            "\u001b[0;31mTypeError\u001b[0m: 'tuple' object does not support item assignment"
          ]
        }
      ]
    },
    {
      "cell_type": "markdown",
      "source": [
        "Q.9. Write a code to create the given structure using only for loop."
      ],
      "metadata": {
        "id": "loFK2BQQgNPF"
      }
    },
    {
      "cell_type": "code",
      "source": [
        "\"\"\"\n",
        "    *\n",
        "   ***\n",
        "  *****\n",
        " *******\n",
        "*********\n",
        "\"\"\"\n",
        "row=5\n",
        "col =5\n",
        "for i in range(1,row+1):# 5 row\n",
        "  for j in range(col-i):#5 colums\n",
        "    print(\" \",end=\"\")\n",
        "  for k in range(2*i-1):\n",
        "    print(\"*\",end=\"\")\n",
        "  print()\n",
        "      \n"
      ],
      "metadata": {
        "colab": {
          "base_uri": "https://localhost:8080/"
        },
        "id": "3-DzMftKgKIM",
        "outputId": "2b8c4699-bdb7-407e-9e92-2a0bbb46e303"
      },
      "execution_count": 19,
      "outputs": [
        {
          "output_type": "stream",
          "name": "stdout",
          "text": [
            "    *\n",
            "   ***\n",
            "  *****\n",
            " *******\n",
            "*********\n"
          ]
        }
      ]
    },
    {
      "cell_type": "markdown",
      "source": [
        "Q.10. Write a code to create the given structure using while loop."
      ],
      "metadata": {
        "id": "aNUkPN7tt1f9"
      }
    },
    {
      "cell_type": "code",
      "source": [
        "\"\"\"\n",
        "|||||||||\n",
        " |||||||\n",
        "  |||||\n",
        "   |||\n",
        "    |\n",
        "\"\"\"\n",
        "row=5\n",
        "col =5\n",
        "for i in range(row,0,-1):# 5 row\n",
        "  for j in range(col-i):#5 colums\n",
        "    print(\" \",end=\"\")\n",
        "  for k in range(2*i-1):\n",
        "    print(\"|\",end=\"\")\n",
        "  print()"
      ],
      "metadata": {
        "colab": {
          "base_uri": "https://localhost:8080/"
        },
        "id": "AATvssdAjonD",
        "outputId": "1d064bbc-bffd-44a3-892d-8af644b5bec9"
      },
      "execution_count": 21,
      "outputs": [
        {
          "output_type": "stream",
          "name": "stdout",
          "text": [
            "|||||||||\n",
            " |||||||\n",
            "  |||||\n",
            "   |||\n",
            "    |\n"
          ]
        }
      ]
    }
  ]
}